{
 "cells": [
  {
   "cell_type": "code",
   "execution_count": null,
   "metadata": {},
   "outputs": [],
   "source": [
    "# Useful starting lines\n",
    "%matplotlib inline\n",
    "import numpy as np\n",
    "import matplotlib.pyplot as plt\n",
    "%load_ext autoreload\n",
    "%autoreload 2\n",
    "\n",
    "from implementations import *\n",
    "from evaluation import *\n",
    "import datetime\n",
    "from collections import Counter"
   ]
  },
  {
   "cell_type": "markdown",
   "metadata": {},
   "source": [
    "## Load the training data into feature matrix, class labels, and event ids:"
   ]
  },
  {
   "cell_type": "code",
   "execution_count": null,
   "metadata": {},
   "outputs": [],
   "source": [
    "from proj1_helpers import *\n",
    "DATA_TRAIN_PATH = 'data/train.csv'\n",
    "y, tX, ids = load_csv_data(DATA_TRAIN_PATH, sub_sample=False)"
   ]
  },
  {
   "cell_type": "markdown",
   "metadata": {},
   "source": [
    "## Set parameters"
   ]
  },
  {
   "cell_type": "code",
   "execution_count": null,
   "metadata": {},
   "outputs": [],
   "source": [
    "evaluation_data = []\n",
    "split_size = 10\n",
    "equalize = False #equalize true and false in data\n",
    "num_param = tX.shape[1]\n",
    "\n",
    "max_iters = [100, 300, 1000]\n",
    "gammas = [0.01, 0.05, 0.1, 0.5]\n",
    "lambdas = [0.01, 0.05, 0.1, 0.5]\n",
    "poly_degrees = [1, 3, 5, 7, 10, 12]"
   ]
  },
  {
   "cell_type": "markdown",
   "metadata": {},
   "source": [
    "## 1. Linear regression using gradient descent"
   ]
  },
  {
   "cell_type": "code",
   "execution_count": null,
   "metadata": {},
   "outputs": [],
   "source": [
    "for poly_degree in poly_degrees:\n",
    "    for max_iter in max_iters:\n",
    "        for gamma in gammas:\n",
    "            initial_w = np.array(np.zeros(num_param*poly_degree+1))\n",
    "            evaluation_result = cross_val(tX, y, equalize, split_size, poly_degree, least_squares_GD, initial_w=initial_w, max_iters=max_iter, gamma=gamma)\n",
    "\n",
    "            evaluation_data.append(evaluation_result)\n",
    "            print(evaluation_result)"
   ]
  },
  {
   "cell_type": "markdown",
   "metadata": {},
   "source": [
    "## 2. Linear regression using stochastic gradient descent"
   ]
  },
  {
   "cell_type": "code",
   "execution_count": null,
   "metadata": {},
   "outputs": [],
   "source": [
    "for poly_degree in poly_degrees:\n",
    "    for max_iter in max_iters:\n",
    "        for gamma in gammas:\n",
    "            initial_w = np.array(np.zeros(num_param*poly_degree+1))\n",
    "            evaluation_result = cross_val(tX, y, equalize, split_size, poly_degree, least_squares_SGD, initial_w=initial_w, max_iters=max_iter, gamma=gamma)\n",
    "\n",
    "            evaluation_data.append(evaluation_result)\n",
    "            print(evaluation_result)"
   ]
  },
  {
   "cell_type": "markdown",
   "metadata": {},
   "source": [
    "## 3. Least squares regression using normal equations"
   ]
  },
  {
   "cell_type": "code",
   "execution_count": null,
   "metadata": {},
   "outputs": [],
   "source": [
    "for poly_degree in poly_degrees:\n",
    "    evaluation_result = cross_val(tX, y, equalize, split_size, poly_degree, least_squares)\n",
    "        \n",
    "    evaluation_data.append(evaluation_result)\n",
    "    print(evaluation_result)"
   ]
  },
  {
   "cell_type": "markdown",
   "metadata": {},
   "source": [
    "## 4. Ridge regression using normal equations"
   ]
  },
  {
   "cell_type": "code",
   "execution_count": null,
   "metadata": {},
   "outputs": [],
   "source": [
    "for poly_degree in poly_degrees:\n",
    "    for lambda_ in lambdas:\n",
    "        evaluation_result = cross_val(tX, y, equalize, split_size, poly_degree, ridge_regression, lambda_=lambda_)\n",
    "\n",
    "        evaluation_data.append(evaluation_result)\n",
    "        print(evaluation_result)"
   ]
  },
  {
   "cell_type": "markdown",
   "metadata": {},
   "source": [
    "## 5. Logistic regression using gradient descent or SGD"
   ]
  },
  {
   "cell_type": "code",
   "execution_count": null,
   "metadata": {},
   "outputs": [],
   "source": [
    "for poly_degree in poly_degrees:\n",
    "    for max_iter in max_iters:\n",
    "        for gamma in gammas:\n",
    "            initial_w = np.array(np.zeros(num_param*poly_degree+1))\n",
    "            evaluation_result = cross_val(tX, y, equalize, split_size, poly_degree, logistic_regression, max_iters=max_iter, gamma=gamma, initial_w=initial_w)\n",
    "\n",
    "            evaluation_data.append(evaluation_result)\n",
    "            print(evaluation_result)"
   ]
  },
  {
   "cell_type": "markdown",
   "metadata": {},
   "source": [
    "## 6. Regularized logistic regression using gradient descent or SGD"
   ]
  },
  {
   "cell_type": "code",
   "execution_count": null,
   "metadata": {},
   "outputs": [],
   "source": [
    "for max_iter in max_iters:\n",
    "    for gamma in gammas:\n",
    "        for lambda_ in lambdas:\n",
    "            initial_w = np.array(np.zeros(num_param*poly_degree+1))\n",
    "            evaluation_result = cross_val(tX, y, equalize, split_size, poly_degree, reg_logistic_regression, max_iters=max_iter, gamma=gamma, initial_w=initial_w, lambda_=lambda_)\n",
    "\n",
    "            evaluation_data.append(evaluation_result)\n",
    "            print(evaluation_result)"
   ]
  },
  {
   "cell_type": "markdown",
   "metadata": {},
   "source": [
    "## Final overview"
   ]
  },
  {
   "cell_type": "code",
   "execution_count": null,
   "metadata": {},
   "outputs": [],
   "source": [
    "for el in evaluation_data:\n",
    "    print(el)"
   ]
  },
  {
   "cell_type": "code",
   "execution_count": null,
   "metadata": {},
   "outputs": [],
   "source": []
  }
 ],
 "metadata": {
  "anaconda-cloud": {},
  "kernelspec": {
   "display_name": "Python 3",
   "language": "python",
   "name": "python3"
  },
  "language_info": {
   "codemirror_mode": {
    "name": "ipython",
    "version": 3
   },
   "file_extension": ".py",
   "mimetype": "text/x-python",
   "name": "python",
   "nbconvert_exporter": "python",
   "pygments_lexer": "ipython3",
   "version": "3.7.6"
  }
 },
 "nbformat": 4,
 "nbformat_minor": 4
}
