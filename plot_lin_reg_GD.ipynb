{
 "cells": [
  {
   "cell_type": "code",
   "execution_count": 5,
   "metadata": {},
   "outputs": [],
   "source": [
    "# Useful starting lines\n",
    "%matplotlib inline\n",
    "import numpy as np\n",
    "import matplotlib.pyplot as plt\n",
    "%load_ext autoreload\n",
    "%autoreload 2\n",
    "\n",
    "from implementations import *\n",
    "from evaluation import *\n",
    "import datetime\n",
    "from collections import Counter"
   ]
  },
  {
   "cell_type": "markdown",
   "metadata": {},
   "source": [
    "## Load the training data into feature matrix, class labels, and event ids:"
   ]
  },
  {
   "cell_type": "code",
   "execution_count": 6,
   "metadata": {},
   "outputs": [],
   "source": [
    "from proj1_helpers import *\n",
    "DATA_TRAIN_PATH = 'data/train.csv'\n",
    "y, tX, ids = load_csv_data(DATA_TRAIN_PATH, sub_sample=False)"
   ]
  },
  {
   "cell_type": "markdown",
   "metadata": {},
   "source": [
    "## Plot linear regression results using gradient descent"
   ]
  },
  {
   "cell_type": "code",
   "execution_count": 7,
   "metadata": {},
   "outputs": [],
   "source": [
    "# Parameters\n",
    "evaluation_data = []\n",
    "max_iters = [10, 100, 500, 750, 1000, 1500]\n",
    "gammas = [0.001, 0.01, 0.049, 0.05, 0.053, 0.07, 0.1]\n",
    "poly_degree = 10"
   ]
  },
  {
   "cell_type": "code",
   "execution_count": null,
   "metadata": {},
   "outputs": [
    {
     "name": "stdout",
     "output_type": "stream",
     "text": [
      "{'method': 'least_squares_GD', 'poly_degree': 10, 'parameters': {'initial_w': array([0., 0., 0., 0., 0., 0., 0., 0., 0., 0., 0., 0., 0., 0., 0., 0., 0.,\n",
      "       0., 0., 0., 0., 0., 0., 0., 0., 0., 0., 0., 0., 0., 0., 0., 0., 0.,\n",
      "       0., 0., 0., 0., 0., 0., 0., 0., 0., 0., 0., 0., 0., 0., 0., 0., 0.,\n",
      "       0., 0., 0., 0., 0., 0., 0., 0., 0., 0., 0., 0., 0., 0., 0., 0., 0.,\n",
      "       0., 0., 0., 0., 0., 0., 0., 0., 0., 0., 0., 0., 0., 0., 0., 0., 0.,\n",
      "       0., 0., 0., 0., 0., 0., 0., 0., 0., 0., 0., 0., 0., 0., 0., 0., 0.,\n",
      "       0., 0., 0., 0., 0., 0., 0., 0., 0., 0., 0., 0., 0., 0., 0., 0., 0.,\n",
      "       0., 0., 0., 0., 0., 0., 0., 0., 0., 0., 0., 0., 0., 0., 0., 0., 0.,\n",
      "       0., 0., 0., 0., 0., 0., 0., 0., 0., 0., 0., 0., 0., 0., 0., 0., 0.,\n",
      "       0., 0., 0., 0., 0., 0., 0., 0., 0., 0., 0., 0., 0., 0., 0., 0., 0.,\n",
      "       0., 0., 0., 0., 0., 0., 0., 0., 0., 0., 0., 0., 0., 0., 0., 0., 0.,\n",
      "       0., 0., 0., 0., 0., 0., 0., 0., 0., 0., 0., 0., 0., 0., 0., 0., 0.,\n",
      "       0., 0., 0., 0., 0., 0., 0., 0., 0., 0., 0., 0., 0., 0., 0., 0., 0.,\n",
      "       0., 0., 0., 0., 0., 0., 0., 0., 0., 0., 0., 0., 0., 0., 0., 0., 0.,\n",
      "       0., 0., 0., 0., 0., 0., 0., 0., 0., 0., 0., 0., 0., 0., 0., 0., 0.,\n",
      "       0., 0., 0., 0., 0., 0., 0., 0., 0., 0., 0., 0., 0., 0., 0., 0., 0.,\n",
      "       0., 0., 0., 0., 0., 0., 0., 0., 0., 0., 0., 0., 0., 0., 0., 0., 0.,\n",
      "       0., 0., 0., 0., 0., 0., 0., 0., 0., 0., 0., 0.]), 'max_iters': 10, 'gamma': 0.001}, 'train_losses': [0.4891270774357093, 0.48874416388511255, 0.4892231455193704, 0.4893165980455311, 0.4886201258741167, 0.4890328809892197, 0.4890303648285411, 0.48854375185608595, 0.48903443774532274, 0.4888005867485753], 'test_losses': [0.4891270774357093, 0.48874416388511255, 0.4892231455193708, 0.489316598045531, 0.488620125874117, 0.4890328809892196, 0.4890303648285411, 0.48854375185608606, 0.4890344377453227, 0.48880058674857535], 'accuracies': [0.69024, 0.69412, 0.69092, 0.68852, 0.69148, 0.69508, 0.69168, 0.69336, 0.68984, 0.69204], 'f1_scores': [0.5876903418166329, 0.5874737012461563, 0.5849938235136151, 0.5839166444028854, 0.5914075329766384, 0.5896980461811723, 0.5873219830817004, 0.587539007855375, 0.585569214323891, 0.5907617073300377], 'precisions': [0.5390701308849385, 0.539055539055539, 0.5379828114195396, 0.540936540936541, 0.5470403763230106, 0.543776057176891, 0.545771144278607, 0.5435540069686411, 0.5404498816101027, 0.5471103672344196], 'recalls': [0.6459503745318352, 0.645448079658606, 0.6410075329566854, 0.6343162293940098, 0.643606595180445, 0.6440917107583775, 0.6357209086694483, 0.639269406392694, 0.6389083275017495, 0.6419824399260629], 'confusion_matrices': [{'tp': 5519, 'fp': 4719, 'tn': 11737, 'fn': 3025}, {'tp': 5445, 'fp': 4656, 'tn': 11908, 'fn': 2991}, {'tp': 5446, 'fp': 4677, 'tn': 11827, 'fn': 3050}, {'tp': 5464, 'fp': 4637, 'tn': 11749, 'fn': 3150}, {'tp': 5582, 'fp': 4622, 'tn': 11705, 'fn': 3091}, {'tp': 5478, 'fp': 4596, 'tn': 11899, 'fn': 3027}, {'tp': 5485, 'fp': 4565, 'tn': 11807, 'fn': 3143}, {'tp': 5460, 'fp': 4585, 'tn': 11874, 'fn': 3081}, {'tp': 5478, 'fp': 4658, 'tn': 11768, 'fn': 3096}, {'tp': 5557, 'fp': 4600, 'tn': 11744, 'fn': 3099}], 'mean_train_loss': 0.48894731329275853, 'std_train_loss': 0.00024480434067813565, 'mean_test_loss': 0.4889473132927586, 'std_test_loss': 0.0002448043406780907, 'mean_accuracy': 0.691728, 'std_accuracy': 0.0019106271221774258, 'mean_f1_score': 0.5876372002728104, 'std_f1_score': 0.0023123611536102194, 'mean_precision': 0.5424746855888232, 'std_precision': 0.0032555249679315007, 'mean_recall': 0.6410301604969914, 'std_recall': 0.00376181373494615}\n"
     ]
    }
   ],
   "source": [
    "# Parameters\n",
    "initial_w = np.array(np.zeros(30*poly_degree+1))\n",
    "\n",
    "for max_iter in max_iters:\n",
    "    for gamma in gammas:\n",
    "        evaluation_result = cross_val(tX, y, False, 10, poly_degree, least_squares_GD, initial_w=initial_w, max_iters=max_iter, gamma=gamma)\n",
    "                                    \n",
    "        evaluation_data.append(evaluation_result)\n",
    "        print(evaluation_result)"
   ]
  },
  {
   "cell_type": "code",
   "execution_count": null,
   "metadata": {},
   "outputs": [],
   "source": [
    "import pickle\n",
    "file = \"lin_reg_GD_eval_201016_Adr.p\"\n",
    "filehandler = open(file, 'wb')\n",
    "pickle.dump(evaluation_data, filehandler)"
   ]
  },
  {
   "cell_type": "code",
   "execution_count": null,
   "metadata": {},
   "outputs": [],
   "source": [
    "eval = pickle.load(open(file, \"rb\"))\n",
    "print(eval)"
   ]
  },
  {
   "cell_type": "code",
   "execution_count": null,
   "metadata": {},
   "outputs": [],
   "source": [
    "gamma = []\n",
    "max_iters = []\n",
    "best_mean_accuracy = 0\n",
    "\n",
    "for item in eval:\n",
    "    #print(\"\\n---\\n\")\n",
    "    param = item['parameters']\n",
    "    gamma.append(param['gamma'])\n",
    "    max_iters.append(param['max_iters'])\n",
    "    #print(item['mean_accuracy'])\n",
    "        \n",
    "    best_mean_accuracy = max(item['mean_accuracy'], best_mean_accuracy)\n",
    "    \n",
    "gamma_uniq = np.unique(gamma)\n",
    "max_iters_uniq = np.unique(max_iters)\n",
    "\n",
    "#print(gamma_uniq)\n",
    "#print(best_mean_accuracy)\n",
    "best_max_iters = 0\n",
    "best_gamma = 0\n",
    "\n",
    "for item in eval:\n",
    "    param = item['parameters']\n",
    "    \n",
    "    if best_mean_accuracy == item['mean_accuracy']:\n",
    "        best_max_iters = param['max_iters']\n",
    "        best_gamma = param['gamma']\n",
    "        #print(param)\n",
    "        \n",
    "#print(best_max_iters)\n",
    "#print(best_gamma)\n",
    "\n",
    "plt.title('mean_accuracy vs gamma with ' + str(best_max_iters) + ' iterations')\n",
    "for item in eval:\n",
    "    param = item['parameters']\n",
    "    \n",
    "    if best_max_iters == param['max_iters']:\n",
    "        plt.scatter(param['gamma'], item['mean_accuracy'], color ='c')\n",
    "        \n",
    "plt.show()"
   ]
  },
  {
   "cell_type": "code",
   "execution_count": null,
   "metadata": {},
   "outputs": [],
   "source": [
    "accuracies = []\n",
    "iterations = []\n",
    "\n",
    "title = 'Least squares GD - mean accuracy vs iterations for gamma ' + str(best_gamma + \" - 2\")\n",
    "plt.title(title)\n",
    "\n",
    "for item in eval:\n",
    "    param = item['parameters']\n",
    "    \n",
    "    if best_gamma == param['gamma']:\n",
    "        accuracies.append(item['mean_accuracy'])\n",
    "        iterations.append(param['max_iters'])\n",
    "        plt.scatter(param['max_iters'], item['mean_accuracy'], color ='c')\n",
    "\n",
    "directory = 'plots'\n",
    "plt.plot(iterations,accuracies)\n",
    "plt.xlabel('iterations')\n",
    "plt.ylabel('mean accuracy')\n",
    "plt.savefig(directory + title + '.jpg')\n",
    "plt.show()"
   ]
  },
  {
   "cell_type": "code",
   "execution_count": null,
   "metadata": {},
   "outputs": [],
   "source": []
  }
 ],
 "metadata": {
  "anaconda-cloud": {},
  "kernelspec": {
   "display_name": "Python 3",
   "language": "python",
   "name": "python3"
  },
  "language_info": {
   "codemirror_mode": {
    "name": "ipython",
    "version": 3
   },
   "file_extension": ".py",
   "mimetype": "text/x-python",
   "name": "python",
   "nbconvert_exporter": "python",
   "pygments_lexer": "ipython3",
   "version": "3.7.6"
  }
 },
 "nbformat": 4,
 "nbformat_minor": 4
}
