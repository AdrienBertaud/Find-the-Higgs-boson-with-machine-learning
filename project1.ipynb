{
 "cells": [
  {
   "cell_type": "code",
   "execution_count": null,
   "metadata": {},
   "outputs": [],
   "source": [
    "# Useful starting lines\n",
    "%matplotlib inline\n",
    "import numpy as np\n",
    "import matplotlib.pyplot as plt\n",
    "%load_ext autoreload\n",
    "%autoreload 2"
   ]
  },
  {
   "cell_type": "markdown",
   "metadata": {},
   "source": [
    "## Load the training data into feature matrix, class labels, and event ids:"
   ]
  },
  {
   "cell_type": "code",
   "execution_count": null,
   "metadata": {},
   "outputs": [],
   "source": [
    "from proj1_helpers import *\n",
    "DATA_TRAIN_PATH = 'data/train.csv'\n",
    "y, tX, ids = load_csv_data(DATA_TRAIN_PATH)"
   ]
  },
  {
   "cell_type": "code",
   "execution_count": null,
   "metadata": {},
   "outputs": [],
   "source": [
    "tX.shape"
   ]
  },
  {
   "cell_type": "markdown",
   "metadata": {},
   "source": [
    "## Do your thing crazy machine learning thing here :) ..."
   ]
  },
  {
   "cell_type": "code",
   "execution_count": null,
   "metadata": {},
   "outputs": [],
   "source": [
    "from implementations import *\n",
    "import datetime\n",
    "\n",
    "max_iters = 100\n",
    "gamma = 0.05\n",
    "\n",
    "# Initialization\n",
    "w_initial = np.array(np.zeros(30))\n",
    "\n",
    "# Standardize data\n",
    "tX = standardize(tX)\n",
    "\n",
    "# Test the first four functions\n",
    "\n",
    "# Gradient descent\n",
    "start_time = datetime.datetime.now()\n",
    "w, loss = least_squares_GD(y, tX, w_initial, max_iters, gamma)\n",
    "end_time = datetime.datetime.now()\n",
    "print('== Gradient descent ==')\n",
    "print(\"loss: \" + str(loss) + ', Time: ' + str((end_time - start_time).total_seconds()) + 's')\n",
    "\n",
    "# Stochastic gradient descent\n",
    "start_time = datetime.datetime.now()\n",
    "w, loss = least_squares_SGD(y, tX, w_initial, max_iters, gamma)\n",
    "end_time = datetime.datetime.now()\n",
    "print('== Stochastic radient descent ==')\n",
    "print(\"loss: \" + str(loss) + ', Time: ' + str((end_time - start_time).total_seconds()) + 's')\n",
    "\n",
    "# Least squares\n",
    "start_time = datetime.datetime.now()\n",
    "w, loss = least_squares(y, tX)\n",
    "end_time = datetime.datetime.now()\n",
    "print('== Least squares ==')\n",
    "print(\"loss: \" + str(loss) + ', Time: ' + str((end_time - start_time).total_seconds()) + 's')\n",
    "\n",
    "# Ridge regression\n",
    "start_time = datetime.datetime.now()\n",
    "w, loss = ridge_regression(y, tX, 0.1)\n",
    "end_time = datetime.datetime.now()\n",
    "print('== Ridge regression ==')\n",
    "print(\"loss: \" + str(loss) + ', Time: ' + str((end_time - start_time).total_seconds()) + 's')"
   ]
  },
  {
   "cell_type": "markdown",
   "metadata": {},
   "source": [
    "## Generate predictions and save ouput in csv format for submission:"
   ]
  },
  {
   "cell_type": "code",
   "execution_count": null,
   "metadata": {},
   "outputs": [],
   "source": [
    "DATA_TEST_PATH = '' # TODO: download train data and supply path here \n",
    "_, tX_test, ids_test = load_csv_data(DATA_TEST_PATH)"
   ]
  },
  {
   "cell_type": "code",
   "execution_count": null,
   "metadata": {},
   "outputs": [],
   "source": [
    "OUTPUT_PATH = '' # TODO: fill in desired name of output file for submission\n",
    "y_pred = predict_labels(weights, tX_test)\n",
    "create_csv_submission(ids_test, y_pred, OUTPUT_PATH)"
   ]
  },
  {
   "cell_type": "code",
   "execution_count": null,
   "metadata": {},
   "outputs": [],
   "source": []
  }
 ],
 "metadata": {
  "anaconda-cloud": {},
  "kernelspec": {
   "display_name": "Python 3",
   "language": "python",
   "name": "python3"
  },
  "language_info": {
   "codemirror_mode": {
    "name": "ipython",
    "version": 3
   },
   "file_extension": ".py",
   "mimetype": "text/x-python",
   "name": "python",
   "nbconvert_exporter": "python",
   "pygments_lexer": "ipython3",
   "version": "3.8.5"
  }
 },
 "nbformat": 4,
 "nbformat_minor": 1
}
