{
 "cells": [
  {
   "cell_type": "code",
   "execution_count": 5,
   "metadata": {},
   "outputs": [
    {
     "name": "stdout",
     "output_type": "stream",
     "text": [
      "The autoreload extension is already loaded. To reload it, use:\n",
      "  %reload_ext autoreload\n"
     ]
    }
   ],
   "source": [
    "# Useful starting lines\n",
    "%matplotlib inline\n",
    "import numpy as np\n",
    "import matplotlib.pyplot as plt\n",
    "%load_ext autoreload\n",
    "%autoreload 2"
   ]
  },
  {
   "cell_type": "code",
   "execution_count": 6,
   "metadata": {},
   "outputs": [],
   "source": [
    "from evaluation import *\n",
    "from proj1_helpers import *\n",
    "from implementations import *\n",
    "from initialize import *\n",
    "import datetime"
   ]
  },
  {
   "cell_type": "markdown",
   "metadata": {},
   "source": [
    "## Load the training data into feature matrix, class labels, and event ids:"
   ]
  },
  {
   "cell_type": "code",
   "execution_count": 9,
   "metadata": {},
   "outputs": [
    {
     "name": "stdout",
     "output_type": "stream",
     "text": [
      "w =  (30, 1)\n"
     ]
    }
   ],
   "source": [
    "x_tr, x_te, y_tr, y_te, tX_test, ids_test, w_initial = initialize(data_train_path='data/train.csv', split_ratio = 0.8, data_test_path='data/test.csv')"
   ]
  },
  {
   "cell_type": "markdown",
   "metadata": {},
   "source": [
    "## Do your thing crazy machine learning thing here :) ..."
   ]
  },
  {
   "cell_type": "markdown",
   "metadata": {},
   "source": [
    "### Test the first four functions"
   ]
  },
  {
   "cell_type": "code",
   "execution_count": null,
   "metadata": {},
   "outputs": [],
   "source": [
    "max_iters = 100\n",
    "gamma = 0.05\n",
    "lambda_=5 "
   ]
  },
  {
   "cell_type": "code",
   "execution_count": null,
   "metadata": {},
   "outputs": [],
   "source": [
    "# Gradient descent\n",
    "start_time = datetime.datetime.now()\n",
    "w, loss = least_squares_GD(y_tr, x_tr, w_initial, max_iters, gamma)\n",
    "end_time = datetime.datetime.now()\n",
    "print('== Gradient descent ==')\n",
    "print(\"loss: \" + str(loss) + ', Time: ' + str((end_time - start_time).total_seconds()) + 's')"
   ]
  },
  {
   "cell_type": "code",
   "execution_count": 6,
   "metadata": {},
   "outputs": [
    {
     "name": "stdout",
     "output_type": "stream",
     "text": [
      "== Stochastic radient descent ==\n",
      "loss: [[0.59672076]], Time: 3.602916s\n"
     ]
    }
   ],
   "source": [
    "# Stochastic gradient descent\n",
    "start_time = datetime.datetime.now()\n",
    "w, loss = least_squares_SGD(y_tr, x_tr, w_initial, max_iters, gamma)\n",
    "end_time = datetime.datetime.now()\n",
    "print('== Stochastic radient descent ==')\n",
    "print(\"loss: \" + str(loss) + ', Time: ' + str((end_time - start_time).total_seconds()) + 's')"
   ]
  },
  {
   "cell_type": "code",
   "execution_count": 7,
   "metadata": {},
   "outputs": [
    {
     "name": "stdout",
     "output_type": "stream",
     "text": [
      "== Least squares ==\n",
      "loss: [[0.38979877]], Time: 0.13773s\n"
     ]
    }
   ],
   "source": [
    "# Least squares\n",
    "start_time = datetime.datetime.now()\n",
    "w, loss = least_squares(y_tr, x_tr)\n",
    "end_time = datetime.datetime.now()\n",
    "print('== Least squares ==')\n",
    "print(\"loss: \" + str(loss) + ', Time: ' + str((end_time - start_time).total_seconds()) + 's')"
   ]
  },
  {
   "cell_type": "code",
   "execution_count": 8,
   "metadata": {},
   "outputs": [
    {
     "name": "stdout",
     "output_type": "stream",
     "text": [
      "== Ridge regression ==\n",
      "loss: [[0.39863467]], Time: 0.107532s\n"
     ]
    }
   ],
   "source": [
    "# Ridge regression\n",
    "start_time = datetime.datetime.now()\n",
    "w, loss = ridge_regression(y_tr, x_tr, 0.1)\n",
    "end_time = datetime.datetime.now()\n",
    "print('== Ridge regression ==')\n",
    "print(\"loss: \" + str(loss) + ', Time: ' + str((end_time - start_time).total_seconds()) + 's')"
   ]
  },
  {
   "cell_type": "code",
   "execution_count": 9,
   "metadata": {},
   "outputs": [
    {
     "name": "stdout",
     "output_type": "stream",
     "text": [
      "Current iteration = 0, loss=[[138629.43611198]]\n",
      "Current iteration = 50, loss=[[1154332.97005763]]\n",
      "[[1297415.69607731]]\n",
      "== Logistic regression ==\n",
      "loss: [[1297415.69607731]], Time: 46.6622s\n"
     ]
    }
   ],
   "source": [
    "from implementations import *\n",
    "# Logistic regression\n",
    "start_time = datetime.datetime.now()\n",
    "w, loss = logistic_regression(y_tr, x_tr, w_initial, max_iters, gamma)\n",
    "print(loss)\n",
    "end_time = datetime.datetime.now()\n",
    "print('== Logistic regression ==')\n",
    "print(\"loss: \" + str(loss) + ', Time: ' + str((end_time - start_time).total_seconds()) + 's')"
   ]
  },
  {
   "cell_type": "code",
   "execution_count": 10,
   "metadata": {},
   "outputs": [
    {
     "name": "stdout",
     "output_type": "stream",
     "text": [
      "Current iteration = 0, loss=[[3.35848507e+08]]\n",
      "Current iteration = 50, loss=[[76233624.23394002]]\n",
      "[[2270725.40599762]]\n",
      "== Logistic regression ==\n",
      "loss: [[2270725.40599762]], Time: 89.969528s\n"
     ]
    }
   ],
   "source": [
    "from implementations import *\n",
    "lambda_=5\n",
    "# Reg logistic regression\n",
    "start_time = datetime.datetime.now()\n",
    "w, loss = reg_logistic_regression(y_tr, x_tr, lambda_, w_initial, max_iters, gamma)\n",
    "print(loss)\n",
    "end_time = datetime.datetime.now()\n",
    "print('== Logistic regression ==')\n",
    "print(\"loss: \" + str(loss) + ', Time: ' + str((end_time - start_time).total_seconds()) + 's')"
   ]
  },
  {
   "cell_type": "markdown",
   "metadata": {},
   "source": [
    "## Generate predictions and save ouput in csv format for submission:"
   ]
  },
  {
   "cell_type": "code",
   "execution_count": 11,
   "metadata": {},
   "outputs": [],
   "source": [
    "OUTPUT_PATH = 'results/submission.csv'\n",
    "y_pred = predict_labels(w, tX_test)\n",
    "create_csv_submission(ids_test, y_pred, OUTPUT_PATH)"
   ]
  },
  {
   "cell_type": "code",
   "execution_count": null,
   "metadata": {},
   "outputs": [],
   "source": []
  },
  {
   "cell_type": "code",
   "execution_count": null,
   "metadata": {},
   "outputs": [],
   "source": []
  }
 ],
 "metadata": {
  "anaconda-cloud": {},
  "kernelspec": {
   "display_name": "Python 3",
   "language": "python",
   "name": "python3"
  },
  "language_info": {
   "codemirror_mode": {
    "name": "ipython",
    "version": 3
   },
   "file_extension": ".py",
   "mimetype": "text/x-python",
   "name": "python",
   "nbconvert_exporter": "python",
   "pygments_lexer": "ipython3",
   "version": "3.7.6"
  }
 },
 "nbformat": 4,
 "nbformat_minor": 4
}
