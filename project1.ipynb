{
 "cells": [
  {
   "cell_type": "code",
   "execution_count": 26,
   "metadata": {},
   "outputs": [
    {
     "name": "stdout",
     "output_type": "stream",
     "text": [
      "The autoreload extension is already loaded. To reload it, use:\n",
      "  %reload_ext autoreload\n"
     ]
    }
   ],
   "source": [
    "# Useful starting lines\n",
    "%matplotlib inline\n",
    "import numpy as np\n",
    "import matplotlib.pyplot as plt\n",
    "%load_ext autoreload\n",
    "%autoreload 2"
   ]
  },
  {
   "cell_type": "code",
   "execution_count": 27,
   "metadata": {},
   "outputs": [],
   "source": [
    "from evaluation import *"
   ]
  },
  {
   "cell_type": "code",
   "execution_count": 28,
   "metadata": {},
   "outputs": [],
   "source": [
    "from proj1_helpers import *"
   ]
  },
  {
   "cell_type": "code",
   "execution_count": 58,
   "metadata": {},
   "outputs": [],
   "source": [
    "from implementations import *"
   ]
  },
  {
   "cell_type": "code",
   "execution_count": 30,
   "metadata": {},
   "outputs": [],
   "source": [
    "import datetime"
   ]
  },
  {
   "cell_type": "markdown",
   "metadata": {},
   "source": [
    "## Load the training data into feature matrix, class labels, and event ids:"
   ]
  },
  {
   "cell_type": "code",
   "execution_count": 31,
   "metadata": {},
   "outputs": [],
   "source": [
    "DATA_TRAIN_PATH = 'data/train.csv'\n",
    "y, tX, ids = load_csv_data(DATA_TRAIN_PATH)\n",
    "y = np.expand_dims(y, axis=1)"
   ]
  },
  {
   "cell_type": "code",
   "execution_count": 32,
   "metadata": {},
   "outputs": [
    {
     "data": {
      "text/plain": [
       "(250000, 30)"
      ]
     },
     "execution_count": 32,
     "metadata": {},
     "output_type": "execute_result"
    }
   ],
   "source": [
    "tX.shape"
   ]
  },
  {
   "cell_type": "code",
   "execution_count": 33,
   "metadata": {},
   "outputs": [],
   "source": [
    "split_ratio = 0.8\n",
    "x_tr, x_te, y_tr, y_te = split_data(tX, y, split_ratio)"
   ]
  },
  {
   "cell_type": "markdown",
   "metadata": {},
   "source": [
    "## Do your thing crazy machine learning thing here :) ..."
   ]
  },
  {
   "cell_type": "code",
   "execution_count": 47,
   "metadata": {},
   "outputs": [
    {
     "name": "stdout",
     "output_type": "stream",
     "text": [
      "w =  (30,)\n",
      "w =  (30, 1)\n"
     ]
    }
   ],
   "source": [
    "max_iters = 100\n",
    "gamma = 0.05\n",
    "num_variables = 30\n",
    "\n",
    "# Initialization\n",
    "w_initial = np.array(np.zeros(num_variables))\n",
    "print(\"w = \", w_initial.shape)\n",
    "w_initial = np.expand_dims(w_initial, axis=1)\n",
    "print(\"w = \", w_initial.shape)\n",
    "\n",
    "# Standardize data\n",
    "tX = standardize(tX)"
   ]
  },
  {
   "cell_type": "markdown",
   "metadata": {},
   "source": [
    "### Test the first four functions"
   ]
  },
  {
   "cell_type": "code",
   "execution_count": 35,
   "metadata": {},
   "outputs": [
    {
     "ename": "ValueError",
     "evalue": "shapes (250000,1) and (250000,1) not aligned: 1 (dim 1) != 250000 (dim 0)",
     "output_type": "error",
     "traceback": [
      "\u001b[1;31m---------------------------------------------------------------------------\u001b[0m",
      "\u001b[1;31mValueError\u001b[0m                                Traceback (most recent call last)",
      "\u001b[1;32m<ipython-input-35-2113ba353506>\u001b[0m in \u001b[0;36m<module>\u001b[1;34m\u001b[0m\n\u001b[0;32m      1\u001b[0m \u001b[1;31m# Gradient descent\u001b[0m\u001b[1;33m\u001b[0m\u001b[1;33m\u001b[0m\u001b[1;33m\u001b[0m\u001b[0m\n\u001b[0;32m      2\u001b[0m \u001b[0mstart_time\u001b[0m \u001b[1;33m=\u001b[0m \u001b[0mdatetime\u001b[0m\u001b[1;33m.\u001b[0m\u001b[0mdatetime\u001b[0m\u001b[1;33m.\u001b[0m\u001b[0mnow\u001b[0m\u001b[1;33m(\u001b[0m\u001b[1;33m)\u001b[0m\u001b[1;33m\u001b[0m\u001b[1;33m\u001b[0m\u001b[0m\n\u001b[1;32m----> 3\u001b[1;33m \u001b[0mw\u001b[0m\u001b[1;33m,\u001b[0m \u001b[0mloss\u001b[0m \u001b[1;33m=\u001b[0m \u001b[0mleast_squares_GD\u001b[0m\u001b[1;33m(\u001b[0m\u001b[0my\u001b[0m\u001b[1;33m,\u001b[0m \u001b[0mtX\u001b[0m\u001b[1;33m,\u001b[0m \u001b[0mw_initial\u001b[0m\u001b[1;33m,\u001b[0m \u001b[0mmax_iters\u001b[0m\u001b[1;33m,\u001b[0m \u001b[0mgamma\u001b[0m\u001b[1;33m)\u001b[0m\u001b[1;33m\u001b[0m\u001b[1;33m\u001b[0m\u001b[0m\n\u001b[0m\u001b[0;32m      4\u001b[0m \u001b[0mend_time\u001b[0m \u001b[1;33m=\u001b[0m \u001b[0mdatetime\u001b[0m\u001b[1;33m.\u001b[0m\u001b[0mdatetime\u001b[0m\u001b[1;33m.\u001b[0m\u001b[0mnow\u001b[0m\u001b[1;33m(\u001b[0m\u001b[1;33m)\u001b[0m\u001b[1;33m\u001b[0m\u001b[1;33m\u001b[0m\u001b[0m\n\u001b[0;32m      5\u001b[0m \u001b[0mprint\u001b[0m\u001b[1;33m(\u001b[0m\u001b[1;34m'== Gradient descent =='\u001b[0m\u001b[1;33m)\u001b[0m\u001b[1;33m\u001b[0m\u001b[1;33m\u001b[0m\u001b[0m\n",
      "\u001b[1;32m~\\Documents\\Perso\\IA\\EPFL\\ML\\proj\\Git_ML_proj1\\implementations.py\u001b[0m in \u001b[0;36mleast_squares_GD\u001b[1;34m(y, tx, initial_w, max_iters, gamma)\u001b[0m\n\u001b[0;32m     53\u001b[0m         \u001b[0mgradient\u001b[0m \u001b[1;33m=\u001b[0m \u001b[0mcompute_gradient\u001b[0m\u001b[1;33m(\u001b[0m\u001b[0my\u001b[0m\u001b[1;33m,\u001b[0m \u001b[0mtx\u001b[0m\u001b[1;33m,\u001b[0m \u001b[0mw\u001b[0m\u001b[1;33m)\u001b[0m\u001b[1;33m\u001b[0m\u001b[1;33m\u001b[0m\u001b[0m\n\u001b[0;32m     54\u001b[0m         \u001b[0mw\u001b[0m \u001b[1;33m=\u001b[0m \u001b[0mw\u001b[0m \u001b[1;33m-\u001b[0m \u001b[0mgamma\u001b[0m \u001b[1;33m*\u001b[0m \u001b[0mgradient\u001b[0m\u001b[1;33m\u001b[0m\u001b[1;33m\u001b[0m\u001b[0m\n\u001b[1;32m---> 55\u001b[1;33m     \u001b[0mloss\u001b[0m \u001b[1;33m=\u001b[0m \u001b[0mcompute_loss\u001b[0m\u001b[1;33m(\u001b[0m\u001b[0my\u001b[0m\u001b[1;33m,\u001b[0m \u001b[0mtx\u001b[0m\u001b[1;33m,\u001b[0m \u001b[0mw\u001b[0m\u001b[1;33m)\u001b[0m\u001b[1;33m\u001b[0m\u001b[1;33m\u001b[0m\u001b[0m\n\u001b[0m\u001b[0;32m     56\u001b[0m     \u001b[1;32mreturn\u001b[0m \u001b[0mw\u001b[0m\u001b[1;33m,\u001b[0m \u001b[0mloss\u001b[0m\u001b[1;33m\u001b[0m\u001b[1;33m\u001b[0m\u001b[0m\n\u001b[0;32m     57\u001b[0m \u001b[1;33m\u001b[0m\u001b[0m\n",
      "\u001b[1;32m~\\Documents\\Perso\\IA\\EPFL\\ML\\proj\\Git_ML_proj1\\implementations.py\u001b[0m in \u001b[0;36mcompute_loss\u001b[1;34m(y, tx, w)\u001b[0m\n\u001b[0;32m     42\u001b[0m \u001b[1;32mdef\u001b[0m \u001b[0mcompute_loss\u001b[0m\u001b[1;33m(\u001b[0m\u001b[0my\u001b[0m\u001b[1;33m,\u001b[0m \u001b[0mtx\u001b[0m\u001b[1;33m,\u001b[0m \u001b[0mw\u001b[0m\u001b[1;33m)\u001b[0m\u001b[1;33m:\u001b[0m\u001b[1;33m\u001b[0m\u001b[1;33m\u001b[0m\u001b[0m\n\u001b[0;32m     43\u001b[0m     \u001b[0me\u001b[0m \u001b[1;33m=\u001b[0m \u001b[0my\u001b[0m \u001b[1;33m-\u001b[0m \u001b[0mtx\u001b[0m\u001b[1;33m.\u001b[0m\u001b[0mdot\u001b[0m\u001b[1;33m(\u001b[0m\u001b[0mw\u001b[0m\u001b[1;33m)\u001b[0m\u001b[1;33m\u001b[0m\u001b[1;33m\u001b[0m\u001b[0m\n\u001b[1;32m---> 44\u001b[1;33m     \u001b[1;32mreturn\u001b[0m \u001b[1;36m1\u001b[0m\u001b[1;33m/\u001b[0m\u001b[1;33m(\u001b[0m\u001b[1;36m2\u001b[0m\u001b[1;33m*\u001b[0m\u001b[0mlen\u001b[0m\u001b[1;33m(\u001b[0m\u001b[0my\u001b[0m\u001b[1;33m)\u001b[0m\u001b[1;33m)\u001b[0m \u001b[1;33m*\u001b[0m \u001b[1;33m(\u001b[0m\u001b[0me\u001b[0m\u001b[1;33m.\u001b[0m\u001b[0mdot\u001b[0m\u001b[1;33m(\u001b[0m\u001b[0me\u001b[0m\u001b[1;33m)\u001b[0m\u001b[1;33m)\u001b[0m\u001b[1;33m\u001b[0m\u001b[1;33m\u001b[0m\u001b[0m\n\u001b[0m\u001b[0;32m     45\u001b[0m \u001b[1;33m\u001b[0m\u001b[0m\n\u001b[0;32m     46\u001b[0m \u001b[1;32mdef\u001b[0m \u001b[0mcompute_gradient\u001b[0m\u001b[1;33m(\u001b[0m\u001b[0my\u001b[0m\u001b[1;33m,\u001b[0m \u001b[0mtx\u001b[0m\u001b[1;33m,\u001b[0m \u001b[0mw\u001b[0m\u001b[1;33m)\u001b[0m\u001b[1;33m:\u001b[0m\u001b[1;33m\u001b[0m\u001b[1;33m\u001b[0m\u001b[0m\n",
      "\u001b[1;31mValueError\u001b[0m: shapes (250000,1) and (250000,1) not aligned: 1 (dim 1) != 250000 (dim 0)"
     ]
    }
   ],
   "source": [
    "# Gradient descent\n",
    "start_time = datetime.datetime.now()\n",
    "w, loss = least_squares_GD(y, tX, w_initial, max_iters, gamma)\n",
    "end_time = datetime.datetime.now()\n",
    "print('== Gradient descent ==')\n",
    "print(\"loss: \" + str(loss) + ', Time: ' + str((end_time - start_time).total_seconds()) + 's')"
   ]
  },
  {
   "cell_type": "code",
   "execution_count": null,
   "metadata": {},
   "outputs": [],
   "source": [
    "# Gradient descent\n",
    "start_time = datetime.datetime.now()\n",
    "w = np.array(np.zeros(num_variables))\n",
    "    \n",
    "for n_iter in range(max_iters):\n",
    "    gradient = compute_gradient(y_tr, x_tr, w) \n",
    "    w = w - gamma * gradient\n",
    "    \n",
    "    if n_iter%100 == 0 and n_iter != 0:\n",
    "        loss_test = compute_loss(y_te, x_te, w)\n",
    "        loss_train = compute_loss(y_tr, x_tr, w)\n",
    "        print(\"test loss: \" + str(loss_test))\n",
    "        print(\"train loss: \" + str(loss_train))\n",
    "        \n",
    "loss_test = compute_loss(y_te, x_te, w)\n",
    "loss_train = compute_loss(y_tr, x_tr, w)\n",
    "print(\"train loss: \" + str(loss_train), \"\\ttest loss: \" + str(loss_test))\n"
   ]
  },
  {
   "cell_type": "code",
   "execution_count": null,
   "metadata": {},
   "outputs": [],
   "source": [
    "# Stochastic gradient descent\n",
    "start_time = datetime.datetime.now()\n",
    "w, loss = least_squares_SGD(y, tX, w_initial, max_iters, gamma)\n",
    "end_time = datetime.datetime.now()\n",
    "print('== Stochastic radient descent ==')\n",
    "print(\"loss: \" + str(loss) + ', Time: ' + str((end_time - start_time).total_seconds()) + 's')"
   ]
  },
  {
   "cell_type": "code",
   "execution_count": null,
   "metadata": {},
   "outputs": [],
   "source": [
    "# Least squares\n",
    "start_time = datetime.datetime.now()\n",
    "w, loss = least_squares(y, tX)\n",
    "end_time = datetime.datetime.now()\n",
    "print('== Least squares ==')\n",
    "print(\"loss: \" + str(loss) + ', Time: ' + str((end_time - start_time).total_seconds()) + 's')"
   ]
  },
  {
   "cell_type": "code",
   "execution_count": null,
   "metadata": {},
   "outputs": [],
   "source": [
    "# Ridge regression\n",
    "start_time = datetime.datetime.now()\n",
    "w, loss = ridge_regression(y, tX, 0.1)\n",
    "end_time = datetime.datetime.now()\n",
    "print('== Ridge regression ==')\n",
    "print(\"loss: \" + str(loss) + ', Time: ' + str((end_time - start_time).total_seconds()) + 's')"
   ]
  },
  {
   "cell_type": "code",
   "execution_count": 71,
   "metadata": {},
   "outputs": [
    {
     "name": "stdout",
     "output_type": "stream",
     "text": [
      "Current iteration = 0, the loss=[[-596850.77813434]]\n",
      "Current iteration = 50, the loss=[[-596850.77813434]]\n",
      "loss is not evolving, stopping the loop at iteration :  50\n",
      "[[-596850.77813434]]\n",
      "== Logistic regression ==\n",
      "loss: [[-596850.77813434]], Time: 16.94989s\n"
     ]
    }
   ],
   "source": [
    "from implementations import *\n",
    "# Logistic regression\n",
    "start_time = datetime.datetime.now()\n",
    "w, loss = logistic_regression(y_tr, x_tr, w_initial, max_iters, gamma)\n",
    "print(loss)\n",
    "end_time = datetime.datetime.now()\n",
    "print('== Logistic regression ==')\n",
    "print(\"loss: \" + str(loss) + ', Time: ' + str((end_time - start_time).total_seconds()) + 's')"
   ]
  },
  {
   "cell_type": "code",
   "execution_count": null,
   "metadata": {},
   "outputs": [
    {
     "name": "stdout",
     "output_type": "stream",
     "text": [
      "Current iteration = 0, loss=[[4009247.35405638]]\n"
     ]
    },
    {
     "name": "stderr",
     "output_type": "stream",
     "text": [
      "C:\\Users\\berta\\Documents\\Perso\\IA\\EPFL\\ML\\proj\\Git_ML_proj1\\implementations.py:85: RuntimeWarning: invalid value encountered in greater\n",
      "  max_t = max(t)\n",
      "C:\\Users\\berta\\Documents\\Perso\\IA\\EPFL\\ML\\proj\\Git_ML_proj1\\implementations.py:86: RuntimeWarning: invalid value encountered in less\n",
      "  min_t = min(t)\n",
      "C:\\Users\\berta\\Documents\\Perso\\IA\\EPFL\\ML\\proj\\Git_ML_proj1\\implementations.py:88: RuntimeWarning: invalid value encountered in less\n",
      "  if min_t < -threshold or max_t > threshold:\n",
      "C:\\Users\\berta\\Documents\\Perso\\IA\\EPFL\\ML\\proj\\Git_ML_proj1\\implementations.py:88: RuntimeWarning: invalid value encountered in greater\n",
      "  if min_t < -threshold or max_t > threshold:\n",
      "C:\\Users\\berta\\Documents\\Perso\\IA\\EPFL\\ML\\proj\\Git_ML_proj1\\implementations.py:108: RuntimeWarning: invalid value encountered in less\n",
      "  mask_inf_to_min = (pred < threshold)\n",
      "C:\\Users\\berta\\Documents\\Perso\\IA\\EPFL\\ML\\proj\\Git_ML_proj1\\implementations.py:109: RuntimeWarning: invalid value encountered in greater_equal\n",
      "  mask_sup_to_max =(pred >= 1-threshold)\n"
     ]
    },
    {
     "name": "stdout",
     "output_type": "stream",
     "text": [
      "Current iteration = 50, loss=[[nan]]\n"
     ]
    },
    {
     "name": "stderr",
     "output_type": "stream",
     "text": [
      "C:\\Users\\berta\\Documents\\Perso\\IA\\EPFL\\ML\\proj\\Git_ML_proj1\\implementations.py:185: RuntimeWarning: invalid value encountered in less\n",
      "  if len(losses) > 1 and np.abs(losses[-1] - losses[-2]) < threshold:\n"
     ]
    }
   ],
   "source": [
    "from implementations import *\n",
    "lambda_=5\n",
    "# Logistic regression\n",
    "start_time = datetime.datetime.now()\n",
    "w, loss = reg_logistic_regression(y_tr, x_tr, lambda_, w_initial, max_iters, gamma)\n",
    "print(loss)\n",
    "end_time = datetime.datetime.now()\n",
    "print('== Logistic regression ==')\n",
    "print(\"loss: \" + str(loss) + ', Time: ' + str((end_time - start_time).total_seconds()) + 's')"
   ]
  },
  {
   "cell_type": "markdown",
   "metadata": {},
   "source": [
    "## Generate predictions and save ouput in csv format for submission:"
   ]
  },
  {
   "cell_type": "code",
   "execution_count": null,
   "metadata": {},
   "outputs": [],
   "source": [
    "DATA_TEST_PATH = 'data/test.csv'\n",
    "_, tX_test, ids_test = load_csv_data(DATA_TEST_PATH)"
   ]
  },
  {
   "cell_type": "code",
   "execution_count": null,
   "metadata": {},
   "outputs": [],
   "source": [
    "OUTPUT_PATH = 'results\\sample-submission.csv'\n",
    "y_pred = predict_labels(w, tX_test)\n",
    "create_csv_submission(ids_test, y_pred, OUTPUT_PATH)"
   ]
  },
  {
   "cell_type": "code",
   "execution_count": null,
   "metadata": {},
   "outputs": [],
   "source": []
  }
 ],
 "metadata": {
  "anaconda-cloud": {},
  "kernelspec": {
   "display_name": "Python 3",
   "language": "python",
   "name": "python3"
  },
  "language_info": {
   "codemirror_mode": {
    "name": "ipython",
    "version": 3
   },
   "file_extension": ".py",
   "mimetype": "text/x-python",
   "name": "python",
   "nbconvert_exporter": "python",
   "pygments_lexer": "ipython3",
   "version": "3.7.6"
  }
 },
 "nbformat": 4,
 "nbformat_minor": 4
}
