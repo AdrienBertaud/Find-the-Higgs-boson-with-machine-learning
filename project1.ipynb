{
 "cells": [
  {
   "cell_type": "code",
   "execution_count": 2,
   "metadata": {},
   "outputs": [],
   "source": [
    "# Useful starting lines\n",
    "%matplotlib inline\n",
    "import numpy as np\n",
    "import matplotlib.pyplot as plt\n",
    "%load_ext autoreload\n",
    "%autoreload 2"
   ]
  },
  {
   "cell_type": "code",
   "execution_count": 3,
   "metadata": {},
   "outputs": [],
   "source": [
    "from evaluation import *"
   ]
  },
  {
   "cell_type": "code",
   "execution_count": 14,
   "metadata": {},
   "outputs": [],
   "source": [
    "from proj1_helpers import *"
   ]
  },
  {
   "cell_type": "code",
   "execution_count": 90,
   "metadata": {},
   "outputs": [],
   "source": [
    "from implementations import *"
   ]
  },
  {
   "cell_type": "code",
   "execution_count": null,
   "metadata": {},
   "outputs": [],
   "source": [
    "import datetime"
   ]
  },
  {
   "cell_type": "markdown",
   "metadata": {},
   "source": [
    "## Load the training data into feature matrix, class labels, and event ids:"
   ]
  },
  {
   "cell_type": "code",
   "execution_count": 67,
   "metadata": {},
   "outputs": [],
   "source": [
    "DATA_TRAIN_PATH = 'data/train.csv'\n",
    "y, tX, ids = load_csv_data(DATA_TRAIN_PATH)\n",
    "y = np.expand_dims(y, axis=1)"
   ]
  },
  {
   "cell_type": "code",
   "execution_count": 52,
   "metadata": {},
   "outputs": [
    {
     "data": {
      "text/plain": [
       "(250000, 30)"
      ]
     },
     "execution_count": 52,
     "metadata": {},
     "output_type": "execute_result"
    }
   ],
   "source": [
    "tX.shape"
   ]
  },
  {
   "cell_type": "code",
   "execution_count": 53,
   "metadata": {},
   "outputs": [],
   "source": [
    "split_ratio = 0.8\n",
    "x_tr, x_te, y_tr, y_te = split_data(tX, y, split_ratio)"
   ]
  },
  {
   "cell_type": "markdown",
   "metadata": {},
   "source": [
    "## Do your thing crazy machine learning thing here :) ..."
   ]
  },
  {
   "cell_type": "code",
   "execution_count": 77,
   "metadata": {},
   "outputs": [
    {
     "name": "stdout",
     "output_type": "stream",
     "text": [
      "w =  (30,)\n",
      "w =  (30, 1)\n"
     ]
    }
   ],
   "source": [
    "max_iters = 2\n",
    "gamma = 0.05\n",
    "num_variables = 30\n",
    "\n",
    "# Initialization\n",
    "w_initial = np.array(np.zeros(num_variables))\n",
    "print(\"w = \", w_initial.shape)\n",
    "w_initial = np.expand_dims(w_initial, axis=1)\n",
    "print(\"w = \", w_initial.shape)\n",
    "\n",
    "# Standardize data\n",
    "tX = standardize(tX)"
   ]
  },
  {
   "cell_type": "markdown",
   "metadata": {},
   "source": [
    "### Test the first four functions"
   ]
  },
  {
   "cell_type": "code",
   "execution_count": 8,
   "metadata": {},
   "outputs": [
    {
     "name": "stdout",
     "output_type": "stream",
     "text": [
      "== Gradient descent ==\n",
      "loss: 0.3989256744975754, Time: 2.099812s\n"
     ]
    }
   ],
   "source": [
    "# Gradient descent\n",
    "start_time = datetime.datetime.now()\n",
    "w, loss = least_squares_GD(y, tX, w_initial, max_iters, gamma)\n",
    "end_time = datetime.datetime.now()\n",
    "print('== Gradient descent ==')\n",
    "print(\"loss: \" + str(loss) + ', Time: ' + str((end_time - start_time).total_seconds()) + 's')"
   ]
  },
  {
   "cell_type": "code",
   "execution_count": 80,
   "metadata": {},
   "outputs": [
    {
     "name": "stdout",
     "output_type": "stream",
     "text": [
      "train loss: 4.1330117740039904e+20 \ttest loss: 4.1402794227154393e+20\n"
     ]
    }
   ],
   "source": [
    "# Gradient descent\n",
    "start_time = datetime.datetime.now()\n",
    "w = np.array(np.zeros(num_variables))\n",
    "    \n",
    "for n_iter in range(max_iters):\n",
    "    gradient = compute_gradient(y_tr, x_tr, w) \n",
    "    w = w - gamma * gradient\n",
    "    \n",
    "    if n_iter%100 == 0 and n_iter != 0:\n",
    "        loss_test = compute_loss(y_te, x_te, w)\n",
    "        loss_train = compute_loss(y_tr, x_tr, w)\n",
    "        print(\"test loss: \" + str(loss_test))\n",
    "        print(\"train loss: \" + str(loss_train))\n",
    "        \n",
    "loss_test = compute_loss(y_te, x_te, w)\n",
    "loss_train = compute_loss(y_tr, x_tr, w)\n",
    "print(\"train loss: \" + str(loss_train), \"\\ttest loss: \" + str(loss_test))\n"
   ]
  },
  {
   "cell_type": "code",
   "execution_count": null,
   "metadata": {},
   "outputs": [],
   "source": [
    "# Stochastic gradient descent\n",
    "start_time = datetime.datetime.now()\n",
    "w, loss = least_squares_SGD(y, tX, w_initial, max_iters, gamma)\n",
    "end_time = datetime.datetime.now()\n",
    "print('== Stochastic radient descent ==')\n",
    "print(\"loss: \" + str(loss) + ', Time: ' + str((end_time - start_time).total_seconds()) + 's')"
   ]
  },
  {
   "cell_type": "code",
   "execution_count": null,
   "metadata": {},
   "outputs": [],
   "source": [
    "# Least squares\n",
    "start_time = datetime.datetime.now()\n",
    "w, loss = least_squares(y, tX)\n",
    "end_time = datetime.datetime.now()\n",
    "print('== Least squares ==')\n",
    "print(\"loss: \" + str(loss) + ', Time: ' + str((end_time - start_time).total_seconds()) + 's')"
   ]
  },
  {
   "cell_type": "code",
   "execution_count": null,
   "metadata": {},
   "outputs": [],
   "source": [
    "# Ridge regression\n",
    "start_time = datetime.datetime.now()\n",
    "w, loss = ridge_regression(y, tX, 0.1)\n",
    "end_time = datetime.datetime.now()\n",
    "print('== Ridge regression ==')\n",
    "print(\"loss: \" + str(loss) + ', Time: ' + str((end_time - start_time).total_seconds()) + 's')"
   ]
  },
  {
   "cell_type": "code",
   "execution_count": 91,
   "metadata": {},
   "outputs": [
    {
     "name": "stdout",
     "output_type": "stream",
     "text": [
      "(250000, 1)\n",
      "(250000, 1)\n",
      "pred =  (250000, 1)\n",
      "tx =  (250000, 30)\n",
      "pred - y =  (250000, 1)\n",
      "grad =  (30, 1)\n",
      "w =  (30, 1)\n",
      "pred =  (250000, 1)\n",
      "tx =  (250000, 30)\n",
      "pred - y =  (250000, 1)\n",
      "grad =  (30, 1)\n",
      "w =  (30, 1)\n",
      "y =  (250000, 1)\n",
      "pred =  (250000, 1)\n",
      "np.log(pred).shape =  (250000, 1)\n",
      "loss =  (1, 1)\n",
      "loss =  (1, 1)\n",
      "loss =  (1, 1)\n",
      "[[nan]]\n",
      "== Logistic regression ==\n",
      "loss: [[nan]], Time: 0.153684s\n"
     ]
    },
    {
     "name": "stderr",
     "output_type": "stream",
     "text": [
      "C:\\Users\\berta\\Documents\\Perso\\IA\\EPFL\\ML\\proj\\Git_ML_proj1\\implementations.py:73: RuntimeWarning: overflow encountered in exp\n",
      "  return 1.0 / (1 + np.exp(-t))\n",
      "C:\\Users\\berta\\Documents\\Perso\\IA\\EPFL\\ML\\proj\\Git_ML_proj1\\implementations.py:80: RuntimeWarning: divide by zero encountered in log\n",
      "  #print(\"np.log(pred) = \", np.log(pred))\n",
      "C:\\Users\\berta\\Documents\\Perso\\IA\\EPFL\\ML\\proj\\Git_ML_proj1\\implementations.py:81: RuntimeWarning: divide by zero encountered in log\n",
      "  loss = y.T.dot(np.log(pred)) + (1 - y).T.dot(np.log(1 - pred))\n"
     ]
    }
   ],
   "source": [
    "# Logistic regression\n",
    "start_time = datetime.datetime.now()\n",
    "print(y.shape)\n",
    "y[y==-1]=0\n",
    "print(y.shape)\n",
    "w, loss = logistic_regression(y, tX, w_initial, max_iters, gamma)\n",
    "print(loss)\n",
    "end_time = datetime.datetime.now()\n",
    "print('== Logistic regression ==')\n",
    "print(\"loss: \" + str(loss) + ', Time: ' + str((end_time - start_time).total_seconds()) + 's')"
   ]
  },
  {
   "cell_type": "markdown",
   "metadata": {},
   "source": [
    "## Generate predictions and save ouput in csv format for submission:"
   ]
  },
  {
   "cell_type": "code",
   "execution_count": 9,
   "metadata": {},
   "outputs": [],
   "source": [
    "DATA_TEST_PATH = 'data/test.csv'\n",
    "_, tX_test, ids_test = load_csv_data(DATA_TEST_PATH)"
   ]
  },
  {
   "cell_type": "code",
   "execution_count": 12,
   "metadata": {},
   "outputs": [],
   "source": [
    "OUTPUT_PATH = 'results\\sample-submission.csv'\n",
    "y_pred = predict_labels(w, tX_test)\n",
    "create_csv_submission(ids_test, y_pred, OUTPUT_PATH)"
   ]
  },
  {
   "cell_type": "code",
   "execution_count": null,
   "metadata": {},
   "outputs": [],
   "source": []
  }
 ],
 "metadata": {
  "anaconda-cloud": {},
  "kernelspec": {
   "display_name": "Python 3",
   "language": "python",
   "name": "python3"
  },
  "language_info": {
   "codemirror_mode": {
    "name": "ipython",
    "version": 3
   },
   "file_extension": ".py",
   "mimetype": "text/x-python",
   "name": "python",
   "nbconvert_exporter": "python",
   "pygments_lexer": "ipython3",
   "version": "3.8.5"
  }
 },
 "nbformat": 4,
 "nbformat_minor": 4
}
