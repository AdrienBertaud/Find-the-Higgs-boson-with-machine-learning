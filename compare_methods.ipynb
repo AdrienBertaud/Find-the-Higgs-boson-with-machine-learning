{
 "cells": [
  {
   "cell_type": "code",
   "execution_count": 1,
   "metadata": {},
   "outputs": [],
   "source": [
    "# Useful starting lines\n",
    "%matplotlib inline\n",
    "import numpy as np\n",
    "import matplotlib.pyplot as plt\n",
    "%load_ext autoreload\n",
    "%autoreload 2\n",
    "\n",
    "from implementations import *\n",
    "from evaluation import *\n",
    "import datetime"
   ]
  },
  {
   "cell_type": "markdown",
   "metadata": {},
   "source": [
    "## Load the training data into feature matrix, class labels, and event ids:"
   ]
  },
  {
   "cell_type": "code",
   "execution_count": 2,
   "metadata": {},
   "outputs": [],
   "source": [
    "from proj1_helpers import *\n",
    "DATA_TRAIN_PATH = 'data/train.csv'\n",
    "y, tX, ids = load_csv_data(DATA_TRAIN_PATH)"
   ]
  },
  {
   "cell_type": "code",
   "execution_count": 3,
   "metadata": {},
   "outputs": [
    {
     "data": {
      "text/plain": [
       "(250000, 30)"
      ]
     },
     "execution_count": 3,
     "metadata": {},
     "output_type": "execute_result"
    }
   ],
   "source": [
    "tX.shape"
   ]
  },
  {
   "cell_type": "markdown",
   "metadata": {},
   "source": [
    "## Properties of dataset"
   ]
  },
  {
   "cell_type": "code",
   "execution_count": 5,
   "metadata": {},
   "outputs": [
    {
     "data": {
      "text/plain": [
       "Counter({1.0: 85667, -1.0: 164333})"
      ]
     },
     "execution_count": 5,
     "metadata": {},
     "output_type": "execute_result"
    }
   ],
   "source": [
    "from collections import Counter\n",
    "Counter(y)"
   ]
  },
  {
   "cell_type": "markdown",
   "metadata": {},
   "source": [
    "## Collect data"
   ]
  },
  {
   "cell_type": "code",
   "execution_count": 18,
   "metadata": {},
   "outputs": [],
   "source": [
    "evaluation_data = []"
   ]
  },
  {
   "cell_type": "markdown",
   "metadata": {},
   "source": [
    "## 1. Linear regression using gradient descent"
   ]
  },
  {
   "cell_type": "code",
   "execution_count": 9,
   "metadata": {},
   "outputs": [
    {
     "name": "stdout",
     "output_type": "stream",
     "text": [
      "{'method': 'least_squares_GD', 'parameters': {'initial_w': array([0., 0., 0., 0., 0., 0., 0., 0., 0., 0., 0., 0., 0., 0., 0., 0., 0.,\n",
      "       0., 0., 0., 0., 0., 0., 0., 0., 0., 0., 0., 0., 0.]), 'max_iters': 100, 'gamma': 0.1}, 'train_losses': [0.39548968140058166, 0.3916020593965087, 0.39317572860129535, 0.39409773783744545, 0.3858473495155666, 0.3914931625731311, 0.3903875817150668, 0.38914223094225703, 0.3917270112589671, 0.3913170498962297], 'test_losses': [0.39548968140058155, 0.39160205939650844, 0.3931757286012953, 0.3940977378374454, 0.38584734951556676, 0.3914931625731312, 0.39038758171506666, 0.3891422309422574, 0.39172701125896686, 0.39131704989622984], 'accuracies': [0.71332, 0.71768, 0.72024, 0.71808, 0.72288, 0.71808, 0.71888, 0.71884, 0.72024, 0.71412], 'f1_scores': [0.6571633580483138, 0.6593300511632397, 0.6614714424007745, 0.6636120656739215, 0.6690551256329417, 0.6607624181748171, 0.6626667946625708, 0.6627968337730871, 0.6649099271751628, 0.6583488694488264], 'precisions': [0.5556993770730524, 0.5560983553167237, 0.5617395593554751, 0.5634624736586157, 0.5711605904901721, 0.5593676147013283, 0.5655415369490414, 0.561443433029909, 0.5642380874939015, 0.5615265432602137], 'recalls': [0.8039559925093633, 0.8096254148885728, 0.8042608286252354, 0.8070582772231252, 0.8074484030900496, 0.8070546737213404, 0.8000695410292072, 0.8088045896265075, 0.8093072078376488, 0.7955175600739371], 'confusion_matrices': [{'tp': 6869, 'fp': 5492, 'tn': 10964, 'fn': 1675}, {'tp': 6830, 'fp': 5452, 'tn': 11112, 'fn': 1606}, {'tp': 6833, 'fp': 5331, 'tn': 11173, 'fn': 1663}, {'tp': 6952, 'fp': 5386, 'tn': 11000, 'fn': 1662}, {'tp': 7003, 'fp': 5258, 'tn': 11069, 'fn': 1670}, {'tp': 6864, 'fp': 5407, 'tn': 11088, 'fn': 1641}, {'tp': 6903, 'fp': 5303, 'tn': 11069, 'fn': 1725}, {'tp': 6908, 'fp': 5396, 'tn': 11063, 'fn': 1633}, {'tp': 6939, 'fp': 5359, 'tn': 11067, 'fn': 1635}, {'tp': 6886, 'fp': 5377, 'tn': 10967, 'fn': 1770}], 'mean_train_loss': 0.39142795931370494, 'std_train_loss': 0.0025350826787914043, 'mean_test_loss': 0.39142795931370494, 'std_test_loss': 0.0025350826787913067, 'mean_accuracy': 0.718236, 'std_accuracy': 0.0026803850469662048, 'mean_f1_score': 0.6620116886153655, 'std_f1_score': 0.0032799830931914066, 'mean_precision': 0.5620277571328433, 'std_precision': 0.004308799500326895, 'mean_recall': 0.8053102488624988, 'std_recall': 0.0042868886899830976}\n"
     ]
    }
   ],
   "source": [
    "# Parameters\n",
    "#max_iters = [10, 100, 500, 750, 1000, 1500]\n",
    "#gammas = [0.01, 0.049, 0.05, 0.053, 0.07, 0.1]\n",
    "max_iters = [100]\n",
    "gammas = [0.1]\n",
    "initial_w = np.array(np.zeros(30))\n",
    "\n",
    "for max_iter in max_iters:\n",
    "    for gamma in gammas:\n",
    "        evaluation_result = cross_val(tX, y, 10, least_squares_GD, initial_w=initial_w, max_iters=max_iter, gamma=gamma)\n",
    "        \n",
    "        evaluation_data.append(evaluation_result)\n",
    "        print(evaluation_result)"
   ]
  },
  {
   "cell_type": "markdown",
   "metadata": {},
   "source": [
    "## 2. Linear regression using stochastic gradient descent"
   ]
  },
  {
   "cell_type": "code",
   "execution_count": 10,
   "metadata": {},
   "outputs": [
    {
     "name": "stdout",
     "output_type": "stream",
     "text": [
      "{'method': 'least_squares_GD', 'parameters': {'initial_w': array([0., 0., 0., 0., 0., 0., 0., 0., 0., 0., 0., 0., 0., 0., 0., 0., 0.,\n",
      "       0., 0., 0., 0., 0., 0., 0., 0., 0., 0., 0., 0., 0.]), 'max_iters': 100, 'gamma': 0.1}, 'train_losses': [1100.703136497316, 1.4826940462142755, 6.395254949266865, 2.0873779666707293, 11.222745112384546, 1287.10422272636, 384.3715305508267, 649.10428803012, 50.61254962093232, 15.936554961221768], 'test_losses': [1100.7031364973168, 1.4826940462142764, 6.395254949266866, 2.08737796667073, 11.222745112384555, 1287.1042227263604, 384.3715305508267, 649.1042880301197, 50.61254962093234, 15.936554961221768], 'accuracies': [0.61504, 0.43972, 0.47856, 0.5742, 0.41276, 0.48336, 0.60108, 0.53852, 0.46028, 0.4692], 'f1_scores': [0.4750163648265328, 0.3873507413725233, 0.45102333024509395, 0.521164140164635, 0.3865792002674132, 0.3748911044429387, 0.4634999193071171, 0.473893018377491, 0.3932185096910554, 0.3783378618945001], 'precisions': [0.4448304045770331, 0.30692451653150343, 0.35114754098360657, 0.42542410222515975, 0.3031454783748362, 0.3185818869786954, 0.4324866981226784, 0.38810875410815654, 0.31998828954109637, 0.3182033096926714], 'recalls': [0.5095973782771536, 0.5248933143669986, 0.6302966101694916, 0.672509867657302, 0.5333794534763058, 0.45537918871252203, 0.4993045897079277, 0.6083596768528275, 0.509913692558899, 0.46649722735674676], 'confusion_matrices': [{'tp': 4354, 'fp': 5434, 'tn': 11022, 'fn': 4190}, {'tp': 4428, 'fp': 9999, 'tn': 6565, 'fn': 4008}, {'tp': 5355, 'fp': 9895, 'tn': 6609, 'fn': 3141}, {'tp': 5793, 'fp': 7824, 'tn': 8562, 'fn': 2821}, {'tp': 4626, 'fp': 10634, 'tn': 5693, 'fn': 4047}, {'tp': 3873, 'fp': 8284, 'tn': 8211, 'fn': 4632}, {'tp': 4308, 'fp': 5653, 'tn': 10719, 'fn': 4320}, {'tp': 5196, 'fp': 8192, 'tn': 8267, 'fn': 3345}, {'tp': 4372, 'fp': 9291, 'tn': 7135, 'fn': 4202}, {'tp': 4038, 'fp': 8652, 'tn': 7692, 'fn': 4618}], 'mean_train_loss': 350.90203544613126, 'std_train_loss': 469.9924626071197, 'mean_test_loss': 350.9020354461314, 'std_test_loss': 469.9924626071199, 'mean_accuracy': 0.5072720000000001, 'std_accuracy': 0.06664784779720948, 'mean_f1_score': 0.43049741905893, 'std_f1_score': 0.049587187247114424, 'mean_precision': 0.3608840981135437, 'std_precision': 0.05357638271308162, 'mean_recall': 0.5410130999136176, 'std_recall': 0.06833456602475546}\n"
     ]
    }
   ],
   "source": [
    "# Parameters\n",
    "#max_iters = [10, 100, 500, 750, 1000, 1500]\n",
    "#gammas = [0.01, 0.049, 0.05, 0.053, 0.07, 0.1]\n",
    "max_iters = [100]\n",
    "gammas = [0.1]\n",
    "initial_w = np.array(np.zeros(30))\n",
    "\n",
    "for max_iter in max_iters:\n",
    "    for gamma in gammas:\n",
    "        evaluation_result = cross_val(tX, y, 10, least_squares_SGD, initial_w=initial_w, max_iters=max_iter, gamma=gamma)\n",
    "        \n",
    "        evaluation_data.append(evaluation_result)\n",
    "        print(evaluation_result)"
   ]
  },
  {
   "cell_type": "markdown",
   "metadata": {},
   "source": [
    "## 3. Least squares regression using normal equations"
   ]
  },
  {
   "cell_type": "code",
   "execution_count": 11,
   "metadata": {},
   "outputs": [
    {
     "name": "stdout",
     "output_type": "stream",
     "text": [
      "{'method': 'least_squares_GD', 'parameters': {}, 'train_losses': [0.3935872822211309, 0.38962890010787127, 0.3911282096028302, 0.39245496612125563, 0.384080020617261, 0.3898468714835387, 0.3881959748142648, 0.387115766122765, 0.3897684825423807, 0.3894472205196128], 'test_losses': [0.3935872822211308, 0.3896289001078713, 0.39112820960283035, 0.39245496612125547, 0.38408002061726093, 0.38984687148353886, 0.38819597481426504, 0.3871157661227651, 0.38976848254238067, 0.3894472205196128], 'accuracies': [0.71328, 0.71816, 0.72056, 0.71944, 0.72452, 0.7186, 0.71988, 0.72044, 0.71988, 0.71564], 'f1_scores': [0.6590887472652905, 0.6615103766333589, 0.6633253012048194, 0.6671412300683371, 0.6725932968861422, 0.6633165829145728, 0.666094502455538, 0.6663484031126176, 0.6665714421749274, 0.6618143761000904], 'precisions': [0.5551193718955295, 0.5561389337641357, 0.5616125346825527, 0.5642157649703002, 0.5722375020223265, 0.559322033898305, 0.5658161198865937, 0.5625503788489441, 0.5631989701504546, 0.5625556004852406], 'recalls': [0.8109784644194756, 0.816145092460882, 0.8100282485875706, 0.8159972138379382, 0.8156347284676583, 0.8148148148148148, 0.809573481687529, 0.8171174335557897, 0.8164217401446233, 0.8036044362292052], 'confusion_matrices': [{'tp': 6929, 'fp': 5553, 'tn': 10903, 'fn': 1615}, {'tp': 6885, 'fp': 5495, 'tn': 11069, 'fn': 1551}, {'tp': 6882, 'fp': 5372, 'tn': 11132, 'fn': 1614}, {'tp': 7029, 'fp': 5429, 'tn': 10957, 'fn': 1585}, {'tp': 7074, 'fp': 5288, 'tn': 11039, 'fn': 1599}, {'tp': 6930, 'fp': 5460, 'tn': 11035, 'fn': 1575}, {'tp': 6985, 'fp': 5360, 'tn': 11012, 'fn': 1643}, {'tp': 6979, 'fp': 5427, 'tn': 11032, 'fn': 1562}, {'tp': 7000, 'fp': 5429, 'tn': 10997, 'fn': 1574}, {'tp': 6956, 'fp': 5409, 'tn': 10935, 'fn': 1700}], 'mean_train_loss': 0.38952536941529115, 'std_train_loss': 0.002550595306199806, 'mean_test_loss': 0.3895253694152912, 'std_test_loss': 0.00255059530619978, 'mean_accuracy': 0.71904, 'std_accuracy': 0.0028561792660825682, 'mean_f1_score': 0.6647804258815694, 'std_f1_score': 0.003607679889688372, 'mean_precision': 0.5622767210604384, 'std_precision': 0.004632267243394094, 'mean_recall': 0.8130315654205486, 'std_recall': 0.004131554236742925}\n"
     ]
    }
   ],
   "source": [
    "evaluation_result = cross_val(tX, y, 10, least_squares)\n",
    "        \n",
    "evaluation_data.append(evaluation_result)\n",
    "print(evaluation_result)"
   ]
  },
  {
   "cell_type": "markdown",
   "metadata": {},
   "source": [
    "## 4. Ridge regression using normal equations"
   ]
  },
  {
   "cell_type": "code",
   "execution_count": 15,
   "metadata": {},
   "outputs": [
    {
     "name": "stdout",
     "output_type": "stream",
     "text": [
      "{'method': 'least_squares_GD', 'parameters': {'lambda_': 100}, 'train_losses': [0.49808919954776093, 0.49805578618730484, 0.4980850296084491, 0.49808969491465027, 0.49788212609585175, 0.49802018727168074, 0.49801802664701983, 0.4979662920990489, 0.4980285133402161, 0.49801177101303734], 'test_losses': [0.49808919954776104, 0.4980557861873047, 0.49808502960844947, 0.49808969491465044, 0.4978821260958519, 0.4980201872716809, 0.49801802664702, 0.4979662920990491, 0.49802851334021636, 0.49801177101303784], 'accuracies': [0.67144, 0.67636, 0.67756, 0.6732, 0.67808, 0.68056, 0.6776, 0.67384, 0.67636, 0.67356], 'f1_scores': [0.5841854814214842, 0.5869198958492878, 0.588030868298666, 0.5884545637719122, 0.5944366055230801, 0.5941248221183167, 0.5907382959276937, 0.5874316939890711, 0.5888510595050562, 0.5855887878941757], 'precisions': [0.5147190008920607, 0.515469464622007, 0.5196459217776171, 0.5197544046983449, 0.5279742189598067, 0.5232297914242234, 0.5256641966383517, 0.5172413793103449, 0.5217469608284556, 0.5224245718945365], 'recalls': [0.6753277153558053, 0.6813655761024182, 0.6771421845574388, 0.678082191780822, 0.6800415081286753, 0.6872427983539094, 0.6742002781641169, 0.6796628029504742, 0.6757639374854211, 0.6661275415896488], 'confusion_matrices': [{'tp': 5770, 'fp': 5440, 'tn': 11016, 'fn': 2774}, {'tp': 5748, 'fp': 5403, 'tn': 11161, 'fn': 2688}, {'tp': 5753, 'fp': 5318, 'tn': 11186, 'fn': 2743}, {'tp': 5841, 'fp': 5397, 'tn': 10989, 'fn': 2773}, {'tp': 5898, 'fp': 5273, 'tn': 11054, 'fn': 2775}, {'tp': 5845, 'fp': 5326, 'tn': 11169, 'fn': 2660}, {'tp': 5817, 'fp': 5249, 'tn': 11123, 'fn': 2811}, {'tp': 5805, 'fp': 5418, 'tn': 11041, 'fn': 2736}, {'tp': 5794, 'fp': 5311, 'tn': 11115, 'fn': 2780}, {'tp': 5766, 'fp': 5271, 'tn': 11073, 'fn': 2890}], 'mean_train_loss': 0.49802466267250195, 'std_train_loss': 6.0807835857775886e-05, 'mean_test_loss': 0.4980246626725021, 'std_test_loss': 6.0807835857771475e-05, 'mean_accuracy': 0.675856, 'std_accuracy': 0.0026347341421858864, 'mean_f1_score': 0.5888762074298743, 'std_f1_score': 0.003186693937076855, 'mean_precision': 0.5207869911045748, 'std_precision': 0.004062635772259599, 'mean_recall': 0.677495653446873, 'std_recall': 0.005190590302594516}\n"
     ]
    }
   ],
   "source": [
    "# Parameters\n",
    "#lambda = [10, 100, 500, 750, 1000, 1500]\n",
    "lambdas = [100]\n",
    "\n",
    "for lambda_ in lambdas:\n",
    "    evaluation_result = cross_val(tX, y, 10, ridge_regression, lambda_=lambda_)\n",
    "        \n",
    "    evaluation_data.append(evaluation_result)\n",
    "    print(evaluation_result)"
   ]
  },
  {
   "cell_type": "markdown",
   "metadata": {},
   "source": [
    "## 5. Logistic regression using gradient descent or SGD"
   ]
  },
  {
   "cell_type": "code",
   "execution_count": 17,
   "metadata": {},
   "outputs": [
    {
     "name": "stdout",
     "output_type": "stream",
     "text": [
      "Current iteration = 0, loss=155958.1156259835\n",
      "Current iteration = 50, loss=1331373.2441326166\n",
      "Current iteration = 0, loss=1416124.3618095487\n",
      "Current iteration = 50, loss=1422251.7772293538\n",
      "Current iteration = 0, loss=1615382.7046323447\n",
      "Current iteration = 50, loss=1386970.2216129894\n",
      "Current iteration = 0, loss=1578876.030725352\n",
      "Current iteration = 50, loss=1273042.9131439137\n",
      "Current iteration = 0, loss=2544291.7003305657\n",
      "Current iteration = 50, loss=1266155.3308820862\n",
      "Current iteration = 0, loss=1598665.4177813292\n",
      "Current iteration = 50, loss=1569264.890476886\n",
      "Current iteration = 0, loss=1590819.9526557573\n",
      "Current iteration = 50, loss=1290987.6981899387\n",
      "Current iteration = 0, loss=1584004.8812991611\n",
      "Current iteration = 50, loss=1597456.9446330974\n",
      "Current iteration = 0, loss=1682672.2202856692\n",
      "Current iteration = 50, loss=1251469.4757469415\n",
      "Current iteration = 0, loss=1554665.9076509087\n",
      "Current iteration = 50, loss=1311945.4227594854\n",
      "{'method': 'least_squares_GD', 'parameters': {'max_iters': 100, 'gamma': 0.1, 'initial_w': array([-5.98853838e+02, -1.58571061e+03, -7.59163688e+03,  5.15420009e+03,\n",
      "       -5.73225334e+03,  1.48821819e+04,  1.79003456e+03,  3.76561318e+03,\n",
      "        3.17961366e+02, -1.38152584e+03, -2.25444779e+03,  6.75684101e+02,\n",
      "        2.39238366e+03,  3.54765821e+03, -2.82899107e+01, -1.12263962e+01,\n",
      "        5.20896507e+03, -2.31799609e+01,  8.89870581e+01,  1.77870022e+03,\n",
      "       -1.25619530e+01,  3.99413580e+02,  6.39490341e+03,  2.31707604e+03,\n",
      "        4.74890859e+01, -4.00237563e+01, -3.00215513e+03, -2.64430363e+01,\n",
      "        1.37183495e+02, -3.56515753e+03])}, 'train_losses': [1418181.564427696, 1619268.998971105, 1565100.281356587, 2539784.810037281, 1580821.400235226, 1575463.7666953353, 1599395.7762754755, 1666698.9594209036, 1530150.8888633861, 1542767.9194501238], 'test_losses': [102348291.78678392, 918179986.3871162, 722387824.7942035, 187161866.26520294, 692019914.3884933, 741396069.710079, 850996660.7011285, 298460076.5776196, 43343322.64961185, 89818091.93267474], 'accuracies': [0.69544, 0.6526, 0.6642, 0.45504, 0.66092, 0.66188, 0.65684, 0.6424, 0.67132, 0.66848], 'f1_scores': [0.6385301936954045, 0.5251763162210923, 0.5487286996720959, 0.4275149172199344, 0.5421055474531411, 0.5451708366962604, 0.5355422012885062, 0.49701811634972426, 0.6079488525215898, 0.5515636835840276], 'precisions': [0.5371405750798722, 0.4873668188736682, 0.5049965370535272, 0.33502370916754476, 0.509959349593496, 0.5025793650793651, 0.5024890785329675, 0.4783927217589083, 0.5144125958821154, 0.5187258294321189], 'recalls': [0.7871020599250936, 0.5693456614509246, 0.60075329566855, 0.5905502670071976, 0.5785771935893002, 0.5956496178718401, 0.5732498840982847, 0.5171525582484486, 0.7430604152087708, 0.5888401109057301], 'confusion_matrices': [{'tp': 6725, 'fp': 5795, 'tn': 10661, 'fn': 1819}, {'tp': 4803, 'fp': 5052, 'tn': 11512, 'fn': 3633}, {'tp': 5104, 'fp': 5003, 'tn': 11501, 'fn': 3392}, {'tp': 5087, 'fp': 10097, 'tn': 6289, 'fn': 3527}, {'tp': 5018, 'fp': 4822, 'tn': 11505, 'fn': 3655}, {'tp': 5066, 'fp': 5014, 'tn': 11481, 'fn': 3439}, {'tp': 4946, 'fp': 4897, 'tn': 11475, 'fn': 3682}, {'tp': 4417, 'fp': 4816, 'tn': 11643, 'fn': 4124}, {'tp': 6371, 'fp': 6014, 'tn': 10412, 'fn': 2203}, {'tp': 5097, 'fp': 4729, 'tn': 11615, 'fn': 3559}], 'mean_train_loss': 1663763.4365733122, 'std_train_loss': 298455.74714111636, 'mean_test_loss': 464611210.5192913, 'std_test_loss': 332196776.86726797, 'mean_accuracy': 0.6429119999999999, 'std_accuracy': 0.06398529281014505, 'mean_f1_score': 0.5419299364701776, 'std_f1_score': 0.0541008582920574, 'mean_precision': 0.48910865804535836, 'std_precision': 0.05360246222676568, 'mean_recall': 0.6144281063974141, 'std_recall': 0.07912204936359314}\n"
     ]
    }
   ],
   "source": [
    "# Parameters\n",
    "#max_iters = [10, 100, 500, 750, 1000, 1500]\n",
    "#gammas = [0.01, 0.049, 0.05, 0.053, 0.07, 0.1]\n",
    "max_iters = [100]\n",
    "gammas = [0.1]\n",
    "initial_w = np.array(np.zeros(30))\n",
    "\n",
    "for max_iter in max_iters:\n",
    "    for gamma in gammas:\n",
    "        evaluation_result = cross_val(tX, y, 10, logistic_regression, max_iters=max_iter, gamma=gamma, initial_w=initial_w)\n",
    "        \n",
    "        evaluation_data.append(evaluation_result)\n",
    "        print(evaluation_result)"
   ]
  },
  {
   "cell_type": "markdown",
   "metadata": {},
   "source": [
    "## Final overview"
   ]
  },
  {
   "cell_type": "code",
   "execution_count": 19,
   "metadata": {},
   "outputs": [],
   "source": [
    "for el in evaluation_data:\n",
    "    print(el)"
   ]
  },
  {
   "cell_type": "code",
   "execution_count": null,
   "metadata": {},
   "outputs": [],
   "source": []
  }
 ],
 "metadata": {
  "anaconda-cloud": {},
  "kernelspec": {
   "display_name": "Python 3",
   "language": "python",
   "name": "python3"
  },
  "language_info": {
   "codemirror_mode": {
    "name": "ipython",
    "version": 3
   },
   "file_extension": ".py",
   "mimetype": "text/x-python",
   "name": "python",
   "nbconvert_exporter": "python",
   "pygments_lexer": "ipython3",
   "version": "3.8.5"
  }
 },
 "nbformat": 4,
 "nbformat_minor": 4
}
